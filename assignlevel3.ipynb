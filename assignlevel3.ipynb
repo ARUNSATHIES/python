{
 "cells": [
  {
   "cell_type": "code",
   "execution_count": null,
   "metadata": {},
   "outputs": [],
   "source": [
    "#print if i==10 \n",
    "i=(int(input(\"value :\")))\n",
    "if i==10:\n",
    "    print(\"correct\")\n",
    "else:\n",
    "    print(\"not correct\")\n",
    "    "
   ]
  },
  {
   "cell_type": "code",
   "execution_count": null,
   "metadata": {},
   "outputs": [],
   "source": [
    "#check the password using if-else\n",
    "\n",
    "pass=input(\"Enter the password :\")\n",
    "if pass==hope@123:\n",
    "    print(\"password is correct\")\n",
    "else:\n",
    "    print(\"password is not correct\")"
   ]
  },
  {
   "cell_type": "code",
   "execution_count": null,
   "metadata": {},
   "outputs": [],
   "source": [
    "#categry the people  by the age like children adult,citizen\n",
    "age=(int(input(\"age:\")))\n",
    "if(age<20):\n",
    "    print(\"children\")\n",
    "elif(age<40):\n",
    "    print(\"adult\")\n",
    "elif(age<60):\n",
    "    print(\"citizen\")\n",
    "else:\n",
    "    print(\"senior citizen\")\n",
    "\n",
    "    "
   ]
  },
  {
   "cell_type": "code",
   "execution_count": null,
   "metadata": {},
   "outputs": [],
   "source": [
    "#find wheather given number is positive or negative\n",
    "n=(int(input(\"Enter the number:\")))\n",
    "if(n>0):\n",
    "    print(\"No is Positive\")\n",
    "elif(n==0):\n",
    "    print(\"zero\")\n",
    "else:\n",
    "    print(\"Negative\")\n"
   ]
  },
  {
   "cell_type": "code",
   "execution_count": null,
   "metadata": {},
   "outputs": [],
   "source": [
    "#check whether the given number is divisible by 5\n",
    "div=(int(input(\"Enter a number to check:\")))\n",
    "if (div%5==0):\n",
    "    print(\"Number is divisible by 5\")\n",
    "else:\n",
    "    print(\"Number is not divisible\")\n",
    "    "
   ]
  },
  {
   "cell_type": "code",
   "execution_count": null,
   "metadata": {},
   "outputs": [],
   "source": []
  }
 ],
 "metadata": {
  "kernelspec": {
   "display_name": "Python 3",
   "language": "python",
   "name": "python3"
  },
  "language_info": {
   "codemirror_mode": {
    "name": "ipython",
    "version": 3
   },
   "file_extension": ".py",
   "mimetype": "text/x-python",
   "name": "python",
   "nbconvert_exporter": "python",
   "pygments_lexer": "ipython3",
   "version": "3.7.4"
  }
 },
 "nbformat": 4,
 "nbformat_minor": 2
}
