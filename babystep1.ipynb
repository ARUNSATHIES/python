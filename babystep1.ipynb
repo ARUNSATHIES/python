{
 "cells": [
  {
   "cell_type": "code",
   "execution_count": null,
   "metadata": {},
   "outputs": [],
   "source": [
    "#print\n",
    "print(\"Welcome to Assignment-1\")\n"
   ]
  },
  {
   "cell_type": "code",
   "execution_count": null,
   "metadata": {},
   "outputs": [],
   "source": [
    "#input\n",
    "num1=(int(input(\"num1=\")))\n",
    "num2=(int(input(\"num2=\")))\n",
    "add=num1+num2\n",
    "print(\"add=\",add)"
   ]
  },
  {
   "cell_type": "code",
   "execution_count": null,
   "metadata": {},
   "outputs": [],
   "source": [
    "#if-else\n",
    "bmi=(int(input(\"enter the bmi index :\")))\n",
    "if(bmi>34):\n",
    "    print(\"very overweight\")\n",
    "elif(bmi>29):\n",
    "    print(\"over weight\")\n",
    "elif(bmi>24):\n",
    "    print(\"healthy\")\n",
    "else:\n",
    "        print(\"under weight\")\n",
    "        \n"
   ]
  },
  {
   "cell_type": "code",
   "execution_count": 1,
   "metadata": {},
   "outputs": [
    {
     "name": "stdout",
     "output_type": "stream",
     "text": [
      "Enter the weight:70\n",
      "Enter the height:155\n",
      "BMI= 29.136316337148802\n",
      "Over Weight\n"
     ]
    }
   ],
   "source": [
    "#if-elif\n",
    "weight=(int(input(\"Enter the weight:\")))\n",
    "height=(int(input(\"Enter the height:\")))\n",
    "bmi=weight/height/height*10000\n",
    "    \n",
    "if(bmi>34):\n",
    "    print(\"BMI=\",bmi)\n",
    "    print(\"Very Over Weight\")\n",
    "elif(bmi>29):\n",
    "    print(\"BMI=\",bmi)\n",
    "    print(\"Over Weight\")\n",
    "elif(bmi>24):\n",
    "    print(\"BMI=\",bmi)\n",
    "    print(\"Healthy\")\n",
    "else:\n",
    "    print(\"BMI=\",bmi)\n",
    "    print(\"Under Weight\")\n",
    "    \n",
    " \n",
    "    \n",
    "    \n",
    "    \n",
    "\n",
    "    \n",
    "    "
   ]
  },
  {
   "cell_type": "code",
   "execution_count": null,
   "metadata": {},
   "outputs": [],
   "source": []
  },
  {
   "cell_type": "code",
   "execution_count": null,
   "metadata": {},
   "outputs": [],
   "source": []
  }
 ],
 "metadata": {
  "kernelspec": {
   "display_name": "Python 3",
   "language": "python",
   "name": "python3"
  },
  "language_info": {
   "codemirror_mode": {
    "name": "ipython",
    "version": 3
   },
   "file_extension": ".py",
   "mimetype": "text/x-python",
   "name": "python",
   "nbconvert_exporter": "python",
   "pygments_lexer": "ipython3",
   "version": "3.7.4"
  }
 },
 "nbformat": 4,
 "nbformat_minor": 2
}
